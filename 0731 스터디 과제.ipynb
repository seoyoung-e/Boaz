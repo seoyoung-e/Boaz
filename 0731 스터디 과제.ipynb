{
 "cells": [
  {
   "cell_type": "code",
   "execution_count": 12,
   "metadata": {},
   "outputs": [
    {
     "data": {
      "text/plain": [
       "((70000, 784), (70000,))"
      ]
     },
     "execution_count": 12,
     "metadata": {},
     "output_type": "execute_result"
    }
   ],
   "source": [
    "from sklearn.datasets import fetch_openml\n",
    "mnist = fetch_openml('mnist_784')\n",
    "mnist.data.shape, mnist.target.shape"
   ]
  },
  {
   "cell_type": "code",
   "execution_count": 13,
   "metadata": {},
   "outputs": [],
   "source": [
    "from sklearn.preprocessing import StandardScaler\n",
    "from sklearn.svm import SVC\n",
    "from sklearn.svm import LinearSVC\n",
    "import numpy as np\n",
    "from sklearn.metrics import accuracy_score\n",
    "from sklearn.pipeline import Pipeline\n",
    "import matplotlib.pyplot as plt"
   ]
  },
  {
   "cell_type": "code",
   "execution_count": 14,
   "metadata": {},
   "outputs": [],
   "source": [
    "X,y= mnist['data'], mnist['target']"
   ]
  },
  {
   "cell_type": "markdown",
   "metadata": {},
   "source": [
    "* 데이터가 커서 일부만 사용"
   ]
  },
  {
   "cell_type": "code",
   "execution_count": 15,
   "metadata": {},
   "outputs": [],
   "source": [
    "X_train, X_test, y_train, y_test = X[:10000],X[10000:15000],y[:10000],y[10000:15000]"
   ]
  },
  {
   "cell_type": "code",
   "execution_count": 16,
   "metadata": {},
   "outputs": [],
   "source": [
    "np.random.seed(42)\n",
    "rnd_idx= np.random.permutation(10000)\n",
    "X_train=X_train[rnd_idx]\n",
    "y_train=y_train[rnd_idx]\n"
   ]
  },
  {
   "cell_type": "markdown",
   "metadata": {},
   "source": [
    "## StandardScaler"
   ]
  },
  {
   "cell_type": "code",
   "execution_count": 17,
   "metadata": {},
   "outputs": [
    {
     "name": "stderr",
     "output_type": "stream",
     "text": [
      "C:\\Users\\seoyounglee\\anaconda3\\lib\\site-packages\\sklearn\\svm\\_base.py:976: ConvergenceWarning: Liblinear failed to converge, increase the number of iterations.\n",
      "  warnings.warn(\"Liblinear failed to converge, increase \"\n"
     ]
    },
    {
     "data": {
      "text/plain": [
       "LinearSVC(max_iter=30000, random_state=42)"
      ]
     },
     "execution_count": 17,
     "metadata": {},
     "output_type": "execute_result"
    }
   ],
   "source": [
    "scaler=StandardScaler()\n",
    "X_train_scaled= scaler.fit_transform(X_train.astype(np.float32))\n",
    "X_test_scaled= scaler.fit_transform(X_test.astype(np.float32))\n",
    "\n",
    "lin_clf=LinearSVC(max_iter=30000, random_state=42)\n",
    "lin_clf.fit(X_train_scaled,y_train)"
   ]
  },
  {
   "cell_type": "code",
   "execution_count": 18,
   "metadata": {},
   "outputs": [
    {
     "data": {
      "text/plain": [
       "0.978"
      ]
     },
     "execution_count": 18,
     "metadata": {},
     "output_type": "execute_result"
    }
   ],
   "source": [
    "y_pred=lin_clf.predict(X_train_scaled)\n",
    "accuracy_score(y_train, y_pred)"
   ]
  },
  {
   "cell_type": "markdown",
   "metadata": {},
   "source": [
    "## SVC"
   ]
  },
  {
   "cell_type": "code",
   "execution_count": 19,
   "metadata": {},
   "outputs": [
    {
     "data": {
      "text/plain": [
       "SVC(gamma='auto')"
      ]
     },
     "execution_count": 19,
     "metadata": {},
     "output_type": "execute_result"
    }
   ],
   "source": [
    "svm_clf= SVC(gamma='auto')\n",
    "svm_clf.fit(X_train_scaled[:3000],y_train[:3000])"
   ]
  },
  {
   "cell_type": "code",
   "execution_count": 20,
   "metadata": {},
   "outputs": [
    {
     "data": {
      "text/plain": [
       "0.9349"
      ]
     },
     "execution_count": 20,
     "metadata": {},
     "output_type": "execute_result"
    }
   ],
   "source": [
    "y_pred=svm_clf.predict(X_train_scaled)\n",
    "accuracy_score(y_train, y_pred)"
   ]
  },
  {
   "cell_type": "markdown",
   "metadata": {},
   "source": [
    "## Hyperparameter\n",
    "* 일단 데이터셋을 적게 설정해서 결과를 보았다\n",
    "* 위에서 스케일한 데이터 이용\n",
    "* N=1000"
   ]
  },
  {
   "cell_type": "code",
   "execution_count": 30,
   "metadata": {},
   "outputs": [
    {
     "name": "stdout",
     "output_type": "stream",
     "text": [
      "accuracy_score:  0.961\n",
      "accuracy_score:  1.0\n",
      "accuracy_score:  1.0\n",
      "accuracy_score:  0.906\n",
      "accuracy_score:  0.99\n",
      "accuracy_score:  1.0\n"
     ]
    }
   ],
   "source": [
    "gamma1, gamma2 = 0.01, 0.005\n",
    "C1, C2,C3 =1, 5, 10\n",
    "hyperparams = (gamma1, C1), (gamma1, C2),(gamma1, C3),  (gamma2, C1), (gamma2, C2) ,(gamma2, C3)\n",
    "\n",
    "svm_clfs = []\n",
    "for gamma, C in hyperparams:\n",
    "    rbf_kernel_svm_clf = Pipeline([\n",
    "            \n",
    "            (\"svm_clf\", SVC(kernel=\"rbf\", gamma=gamma, C=C))\n",
    "        ])\n",
    "    rbf_kernel_svm_clf.fit(X_train_scaled[:1000],y_train[:1000])\n",
    "    y_pred=rbf_kernel_svm_clf.predict(X_train_scaled[:1000])\n",
    "    print('accuracy_score: ',accuracy_score(y_train[:1000], y_pred))\n",
    "    #svm_clfs.append(rbf_kernel_svm_clf)"
   ]
  },
  {
   "cell_type": "markdown",
   "metadata": {},
   "source": [
    "* N=5000 감마 0.01 C=10 일 때 99.96%"
   ]
  },
  {
   "cell_type": "code",
   "execution_count": 31,
   "metadata": {},
   "outputs": [
    {
     "name": "stdout",
     "output_type": "stream",
     "text": [
      "accuracy_score:  0.939\n",
      "accuracy_score:  0.9936\n",
      "accuracy_score:  0.9996\n",
      "accuracy_score:  0.8282\n",
      "accuracy_score:  0.9684\n",
      "accuracy_score:  0.9888\n"
     ]
    }
   ],
   "source": [
    "gamma1, gamma2 = 0.01, 0.005\n",
    "C1, C2,C3 =1, 5, 10\n",
    "hyperparams = (gamma1, C1), (gamma1, C2),(gamma1, C3),  (gamma2, C1), (gamma2, C2) ,(gamma2, C3)\n",
    "\n",
    "svm_clfs = []\n",
    "for gamma, C in hyperparams:\n",
    "    rbf_kernel_svm_clf = Pipeline([\n",
    "            \n",
    "            (\"svm_clf\", SVC(kernel=\"rbf\", gamma=gamma, C=C))\n",
    "        ])\n",
    "    rbf_kernel_svm_clf.fit(X_train_scaled[:5000],y_train[:5000])\n",
    "    y_pred=rbf_kernel_svm_clf.predict(X_train_scaled[:5000])\n",
    "    print('accuracy_score: ',accuracy_score(y_train[:5000], y_pred))"
   ]
  },
  {
   "cell_type": "markdown",
   "metadata": {},
   "source": [
    "* N=10000 감마 0.01 C=10 일 때 99.86%"
   ]
  },
  {
   "cell_type": "code",
   "execution_count": 36,
   "metadata": {},
   "outputs": [
    {
     "name": "stdout",
     "output_type": "stream",
     "text": [
      "accuracy_score:  0.9275\n",
      "accuracy_score:  0.9876\n",
      "accuracy_score:  0.9986\n",
      "accuracy_score:  0.7917\n",
      "accuracy_score:  0.9601\n",
      "accuracy_score:  0.9792\n"
     ]
    }
   ],
   "source": [
    "gamma1, gamma2 = 0.01, 0.005\n",
    "C1, C2,C3 =1, 5, 10\n",
    "hyperparams = (gamma1, C1), (gamma1, C2),(gamma1, C3),  (gamma2, C1), (gamma2, C2) ,(gamma2, C3)\n",
    "\n",
    "svm_clfs = []\n",
    "for gamma, C in hyperparams:\n",
    "    rbf_kernel_svm_clf = Pipeline([\n",
    "            \n",
    "            (\"svm_clf\", SVC(kernel=\"rbf\", gamma=gamma, C=C))\n",
    "        ])\n",
    "    rbf_kernel_svm_clf.fit(X_train_scaled[:10000],y_train[:10000])\n",
    "    y_pred=rbf_kernel_svm_clf.predict(X_train_scaled[:10000])\n",
    "    print('accuracy_score: ',accuracy_score(y_train[:10000], y_pred))"
   ]
  },
  {
   "cell_type": "markdown",
   "metadata": {},
   "source": [
    "## >> 위의 결과를 통해 감마=0.01 C=10 일 때 가장 좋은 결과를 보임을 확인"
   ]
  },
  {
   "cell_type": "code",
   "execution_count": null,
   "metadata": {},
   "outputs": [],
   "source": [
    "#시각화"
   ]
  },
  {
   "cell_type": "code",
   "execution_count": null,
   "metadata": {},
   "outputs": [],
   "source": [
    "plt.figure(figsize=(11, 7))\n",
    "\n",
    "for i, svm_clf in enumerate(svm_clfs):\n",
    "    plt.subplot(221 + i)\n",
    "    plot_predictions(rbf_kernel_svm_clf, [-1.5, 2.5, -1, 1.5])\n",
    "    plot_dataset(X, y, [-1.5, 2.5, -1, 1.5])\n",
    "    gamma, C = hyperparams[i]\n",
    "    plt.title(r\"$\\gamma = {}, C = {}$\".format(gamma, C), fontsize=16)\n",
    "\n",
    "plt.show()"
   ]
  },
  {
   "cell_type": "code",
   "execution_count": null,
   "metadata": {},
   "outputs": [],
   "source": [
    "'''\n",
    "from sklearn.model_selection import RandomizedSearchCV\n",
    "from scipy.stats import reciprocal, uniform\n",
    "\n",
    "param= {'gamma': reciprocal(0.001,0.005), 'C':uniform(1, 5)}\n",
    "rnd_search_cv=  RandomizedSearchCV(svm_clf, param, cv=3, n_iter=10, n_jobs=-1)\n",
    "rnd_search_cv.fit(X_trian_scaled[:1000],y_train[:1000])\n",
    "rnd_serach_cv.best_estimator_\n",
    "rnd_search_cv.best_score_\n",
    "rnd_search_cv.fit(X_trian_scaled,y_train)\n",
    "y_pred=rnd_search_cv.best_estimator_.predict(X_test_scaled)\n",
    "accuracy_score(y_test, y_pred)\n",
    "''"
   ]
  },
  {
   "cell_type": "code",
   "execution_count": null,
   "metadata": {},
   "outputs": [],
   "source": []
  }
 ],
 "metadata": {
  "kernelspec": {
   "display_name": "Python 3",
   "language": "python",
   "name": "python3"
  },
  "language_info": {
   "codemirror_mode": {
    "name": "ipython",
    "version": 3
   },
   "file_extension": ".py",
   "mimetype": "text/x-python",
   "name": "python",
   "nbconvert_exporter": "python",
   "pygments_lexer": "ipython3",
   "version": "3.8.5"
  }
 },
 "nbformat": 4,
 "nbformat_minor": 4
}
